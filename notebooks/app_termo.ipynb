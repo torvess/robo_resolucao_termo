{
 "cells": [
  {
   "cell_type": "code",
   "execution_count": 80,
   "metadata": {},
   "outputs": [],
   "source": [
    "#importacao das bibliotecas\n",
    "import pandas as pd\n",
    "import numpy as np\n",
    "\n",
    "import warnings\n",
    "warnings.filterwarnings('ignore')"
   ]
  },
  {
   "cell_type": "code",
   "execution_count": 81,
   "metadata": {},
   "outputs": [],
   "source": [
    "palavras = pd.read_csv(r'D:\\Documentos\\robo_resolucao_termo\\dados\\palavras.txt', encoding='utf-8', header=None)\n",
    "palavras.columns = ['palavra']"
   ]
  },
  {
   "cell_type": "code",
   "execution_count": 82,
   "metadata": {},
   "outputs": [],
   "source": [
    "tamanho_palavra = 5\n",
    "letras_nao_fazem_parte = ['a', 'l', 'e', 'p']\n",
    "letras_fazem_parte = ['r', 'b', 'i', 'c', 'ç', 's', 'u' 't']"
   ]
  },
  {
   "cell_type": "code",
   "execution_count": 84,
   "metadata": {},
   "outputs": [
    {
     "name": "stdout",
     "output_type": "stream",
     "text": [
      "5610\n"
     ]
    }
   ],
   "source": [
    "possiveis_palavras = []\n",
    "\n",
    "for index, row in palavras.iterrows():\n",
    "    palavra = row['palavra']\n",
    "    \n",
    "    if tamanho_palavra == len(palavra):\n",
    "        for letra in letras_fazem_parte:\n",
    "            if letra in palavra:\n",
    "                possiveis_palavras.append(palavra)\n",
    "        for letra in letras_nao_fazem_parte:\n",
    "            if letra in palavra and palavra in possiveis_palavras:\n",
    "                possiveis_palavras.remove(palavra)\n",
    "\n",
    "print(len(possiveis_palavras))\n"
   ]
  }
 ],
 "metadata": {
  "kernelspec": {
   "display_name": "Python 3",
   "language": "python",
   "name": "python3"
  },
  "language_info": {
   "codemirror_mode": {
    "name": "ipython",
    "version": 3
   },
   "file_extension": ".py",
   "mimetype": "text/x-python",
   "name": "python",
   "nbconvert_exporter": "python",
   "pygments_lexer": "ipython3",
   "version": "3.12.2"
  }
 },
 "nbformat": 4,
 "nbformat_minor": 2
}
